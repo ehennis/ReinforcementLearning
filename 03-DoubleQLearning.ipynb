{
 "cells": [
  {
   "cell_type": "markdown",
   "metadata": {},
   "source": [
    "# Double Q-Learner"
   ]
  },
  {
   "cell_type": "markdown",
   "metadata": {
    "collapsed": true
   },
   "source": [
    "Double Q-Learning was created by Hado van Hasselt in 2010. The idea is that because a normal q-learner uses *max* that it overestimates the action values. To help solve this Hasselt introduces a second Q table that we will use to figure out the max value action estimate."
   ]
  },
  {
   "cell_type": "markdown",
   "metadata": {},
   "source": [
    "Here is the abstract from the paper:  \n",
    "In some stochastic environments the well-known reinforcement learning algorithm\n",
    "Q-learning performs very poorly. This poor performance is caused by large\n",
    "overestimations of action values. These overestimations result from a positive\n",
    "bias that is introduced because Q-learning uses the maximum action value as an\n",
    "approximation for the maximum expected action value. We introduce an alternative\n",
    "way to approximate the maximum expected value for any set of random\n",
    "variables. The obtained double estimator method is shown to sometimes underestimate\n",
    "rather than overestimate the maximum expected value. We apply the\n",
    "double estimator to Q-learning to construct Double Q-learning, a new off-policy\n",
    "reinforcement learning algorithm. We show the new algorithm converges to the\n",
    "optimal policy and that it performs well in some settings in which Q-learning performs\n",
    "poorly due to its overestimation"
   ]
  },
  {
   "cell_type": "markdown",
   "metadata": {},
   "source": [
    "**Equations**   \n",
    "Remember, this is the Q-learning update formula  \n",
    "$$Q'(s_t,a_t) \\leftarrow Q(s_t,a_t) + \\alpha * \\big( r_t + \\gamma * max_a Q(s_{t+1},a) - Q(s_t,a_t) \\big) $$  \n",
    "\n",
    "When using a Double Q-learner you will have 2 update equations that you randomly select which one you update. \n",
    "Choose UPDATE(A) or UPDATE(B) randomly  \n",
    "UPDATE(A)\n",
    "$$a^* = arg \\, max_a Q^A(s',a)$$\n",
    "$$Q^A(s,a) \\leftarrow Q^A(s,a) + \\alpha(s,a) * \\big( r + \\gamma * Q^B(s',a^*) - Q^A(s,a) \\big) $$\n",
    "UPDATE(B)\n",
    "$$a^* = arg \\, max_a Q^B(s',a)$$\n",
    "$$Q^B(s,a) \\leftarrow Q^B(s,a) + \\alpha(s,a) * \\big( r + \\gamma * Q^A(s',a^*) - Q^B(s,a) \\big) $$  \n",
    "\n",
    "Now, to put this in simplier terms, if you are doing UPDATE(A) you will do the equation like normal BUT when you find the future rewards ($Q^B(s',a^*)$) you are finding the **MAX** value from the $Q^A$ table and taking that index and getting the actual value from $Q^B$.  \n",
    "\n",
    "In an attempt to cement this in your brains here is an example:  \n",
    "$Q^A$ has this entry in state X: [ 0.1, 0.2, 0.12, 0.005]  \n",
    "$Q^B$ has this entry in state X: [ 0.9, 0.5, 0.30, 0.020]  \n",
    "\n",
    "What is the expected future value if you are doing UPDATE(A)?"
   ]
  },
  {
   "cell_type": "code",
   "execution_count": 3,
   "metadata": {},
   "outputs": [
    {
     "name": "stdout",
     "output_type": "stream",
     "text": [
      "Incorrect.\n",
      "  First, you need to find the index of MAX(Q^A)\n",
      "  Then, you find the expected value at that index in Q^B\n"
     ]
    }
   ],
   "source": [
    "from doubleq import DoubleQQuestion1\n",
    "DoubleQQuestion1(0.0)"
   ]
  },
  {
   "cell_type": "markdown",
   "metadata": {},
   "source": [
    "I am going to do one more question before we get into the implementation of a full Double Q-Leaner.  \n",
    "\n",
    "Code up both UpdateA and UpdateB and then run the test below."
   ]
  },
  {
   "cell_type": "code",
   "execution_count": 4,
   "metadata": {
    "collapsed": true
   },
   "outputs": [],
   "source": [
    "import numpy as np"
   ]
  },
  {
   "cell_type": "code",
   "execution_count": 11,
   "metadata": {
    "collapsed": true
   },
   "outputs": [],
   "source": [
    "def UpdateA(QA, QB, state, action, nstate, alpha=1, reward=1, gamma=1, done=False):\n",
    "    #Find a* (Index of the max value in s') in QA\n",
    "    a_star_idx = 0 #TODO\n",
    "    #Find QB[s',a*]\n",
    "    future_value = 0 #TODO\n",
    "    QA[state][action] += alpha * (reward + gamma * future_value * (not done) - QA[state][action])"
   ]
  },
  {
   "cell_type": "code",
   "execution_count": 12,
   "metadata": {
    "collapsed": true
   },
   "outputs": [],
   "source": [
    "def UpdateB(QA, QB, state, action, nstate, alpha=1, reward=1, gamma=1, done=False):\n",
    "    #Find a* (Index of the max value in s') in QA\n",
    "    a_star_idx = 0 #TODO\n",
    "    #Find QA[s',a*]\n",
    "    future_value = 0 #TODO\n",
    "    QB[state][action] += alpha * (reward + gamma * future_value * (not done) - QB[state][action])"
   ]
  },
  {
   "cell_type": "code",
   "execution_count": 13,
   "metadata": {},
   "outputs": [
    {
     "name": "stdout",
     "output_type": "stream",
     "text": [
      "Fail. Try again.\n",
      "Fail. Try again.\n"
     ]
    }
   ],
   "source": [
    "nS = 10 #10 States\n",
    "nA = 4 #4 Actions\n",
    "QA = np.zeros((nS,nA), dtype=np.float)\n",
    "QB = np.zeros((nS,nA), dtype=np.float)\n",
    "\n",
    "#Set the maximum expected value for each of the 4 actions for state 1\n",
    "QA[1] = (1,2,3,4)\n",
    "QB[1] = (8,7,6,5)\n",
    "\n",
    "QA[2] = (5,6,2,1)\n",
    "QB[2] = (7,5,6,4)\n",
    "\n",
    "#Starting at state 1, take action 3, and end up in state 2\n",
    "UpdateA(QA,QB, 1, 3, 2)\n",
    "if QA[1,3] == 6.0:\n",
    "    print('Success')\n",
    "else:\n",
    "    print('Fail. Try again.')\n",
    "#Repeat with QB being randomly selected\n",
    "UpdateB(QA,QB, 1, 3, 2)\n",
    "if QB[1,3] == 6.0:\n",
    "    print('Success')\n",
    "else:\n",
    "    print('Fail. Try again.')"
   ]
  },
  {
   "cell_type": "markdown",
   "metadata": {},
   "source": [
    "If you were having troubles here is how I would explain what was going on. I am going to use UpdateA as an example as it should be easy enough for you to switch $Q^A$ and $Q^B$.  \n",
    "\n",
    "To find $$a^* = arg \\, max_a Q^A(s',a)$$ you need to find the index of the max value in the next state (nstate in code) of  $Q^A$. Numpy has np.argmax for just this reason.  \n",
    "CODE: a_star_idx = np.argmax(QA[nstate])\n",
    "\n",
    "To find $$Q^B(s',a^*)$$ you would take the index from the previous answer and put it against the next state (nstate) of $Q^B$.  \n",
    "CODE: future_value = QB[nstate,a_star_idx]"
   ]
  },
  {
   "cell_type": "markdown",
   "metadata": {},
   "source": [
    "## CartPole Example  \n",
    "Below I am going to recreate the same CartPole example as the Q-Learner but with the addition of the second Q table. Try and run these and compare to what you were able to accomplish before and see if you are seeing smother results or faster results. If you were to really do this comparison you should run ~10x of each algorithm to smooth out the outliers."
   ]
  },
  {
   "cell_type": "code",
   "execution_count": 14,
   "metadata": {},
   "outputs": [
    {
     "name": "stderr",
     "output_type": "stream",
     "text": [
      "[2018-11-04 13:16:22,936] Making new env: CartPole-v1\n"
     ]
    }
   ],
   "source": [
    "#Imports\n",
    "import gym\n",
    "import numpy as np\n",
    "import matplotlib.pyplot as plt\n",
    "\n",
    "from gym import wrappers\n",
    "envCartPole = gym.make('CartPole-v1')"
   ]
  },
  {
   "cell_type": "code",
   "execution_count": 15,
   "metadata": {
    "collapsed": true
   },
   "outputs": [],
   "source": [
    "#Helper methods\n",
    "def UpdateA(QA, QB, state, action, nstate, alpha=1, reward=1, gamma=1, done=False):\n",
    "    #Find a* (Index of the max value in s') in QA\n",
    "    a_star_idx = np.argmax(QA[nstate])\n",
    "    #Find QB[s',a*]\n",
    "    future_value = QB[nstate,a_star_idx]\n",
    "    QA[state][action] += alpha * (reward + gamma * future_value * (not done) - QA[state][action])\n",
    "\n",
    "def UpdateB(QA, QB, state, action, nstate, alpha=1, reward=1, gamma=1, done=False):\n",
    "    #Find a* (Index of the max value in s') in QA\n",
    "    a_star_idx = np.argmax(QB[nstate])\n",
    "    #Find QA[s',a*]\n",
    "    future_value = QA[nstate,a_star_idx]\n",
    "    QB[state][action] += alpha * (reward + gamma * future_value * (not done) - QB[state][action])\n",
    "\n",
    "def observation_to_state(observation, bucket):\n",
    "    disc_state = []\n",
    "    for i in range(len(observation)): #Step through each of the 4 states\n",
    "        disc_state.append(int(np.digitize(observation[i], bins=bucket[i])))\n",
    "    state = int(''.join(map(lambda feature: str(int(feature)), disc_state)))\n",
    "    return state\n",
    "\n",
    "def learning_schedule(e, max_episode):\n",
    "    return 0.8\n",
    "\n",
    "def action_selection(state, Q, e, max_episodes):\n",
    "    #0-1k: 100% explore\n",
    "    #1k-2k: 80%\n",
    "    #2k-3k: 75%\n",
    "    #3k-4k: 50%\n",
    "    #4k-5k: 0%\n",
    "    if e < 1000:\n",
    "        epsilon = 0.99\n",
    "    elif e < 2000:\n",
    "        epsilon = 0.50\n",
    "    elif e < 3000:\n",
    "        epsilon = 0.25\n",
    "    elif e < 4000:\n",
    "        epsilon = 0.05\n",
    "    else:\n",
    "        epsilon = 0\n",
    "    action = np.random.randint(Q.shape[1]) if np.random.random() < epsilon else np.argmax(Q[state])\n",
    "    return action"
   ]
  },
  {
   "cell_type": "code",
   "execution_count": 16,
   "metadata": {
    "collapsed": true
   },
   "outputs": [],
   "source": [
    "#Build Buckets\n",
    "def build_buckets():\n",
    "    observations = []\n",
    "    for episode in range(1000): #1k episodes should give us enough data\n",
    "        observation = envCartPole.reset()\n",
    "        for step in range(100): #Do only 100 steps per episode unless we finish\n",
    "            observations.append(observation)\n",
    "            action = envCartPole.action_space.sample()\n",
    "            if episode < 25: #First 20 episodes only go left\n",
    "                action = 0\n",
    "            elif episode < 50: #Next 20 episodes only go right\n",
    "                action = 1\n",
    "            observation, reward, done, info = envCartPole.step(action)\n",
    "            if done: #Fell or hit the goal\n",
    "                break\n",
    "    envCartPole.close()\n",
    "    x_vals = np.array(observations)[:,0]\n",
    "    xd_vals = np.array(observations)[:,1]\n",
    "    a_vals = np.array(observations)[:,2]\n",
    "    ad_vals = np.array(observations)[:,3]\n",
    "    y = np.zeros_like(x_vals)\n",
    "\n",
    "    x_thres = ((envCartPole.env.observation_space.low/2)[0],\n",
    "           (envCartPole.env.observation_space.high/2)[0])\n",
    "    a_thres = ((envCartPole.env.observation_space.low/2)[2],\n",
    "           (envCartPole.env.observation_space.high/2)[2])\n",
    "\n",
    "    x1 = np.linspace(np.min(x_vals), np.max(x_vals), 4, endpoint=False)[1:]\n",
    "    xd1 = np.sort(np.append(np.linspace(-1.5,1.5,4,endpoint=True),0))\n",
    "    a1 = np.sort(np.linspace(a_thres[0], a_thres[1],10, endpoint=False)[1:])\n",
    "    all_vals = np.sort(np.append(\n",
    "        (np.logspace(-7, 4, 6, endpoint=False, base=2)[1:],\n",
    "         -np.logspace(-7, 4, 6, endpoint=False, base=2)[1:]), 0))\n",
    "    idxs = np.where(np.abs(all_vals) < 2)\n",
    "    ad1 = all_vals[idxs]\n",
    "\n",
    "    return (x1, xd1, a1, ad1)"
   ]
  },
  {
   "cell_type": "code",
   "execution_count": 17,
   "metadata": {
    "collapsed": true
   },
   "outputs": [],
   "source": [
    "#Double Q-Learning Method\n",
    "def double_q_learning(env, buckets):\n",
    "    gamma = 0.99\n",
    "    rewards = []    \n",
    "\n",
    "    nS = 10 * 10 * 10 * 10 #Ensure this is plenty big. If I was concerned about space I can use the bucket sizes to calculate this.\n",
    "    nA = envCartPole.action_space.n #env.env.env.nA\n",
    "    Q = np.random.random((nS,nA)) #Initialize the Q table to all random numbers\n",
    "    episodes = 5000\n",
    "    for e in range(episodes):\n",
    "        observation = env.reset()\n",
    "        state = observation_to_state(observation, buckets)\n",
    "        total_reward = 0\n",
    "        while True:\n",
    "            action = action_selection(state, Q, e, episodes) #Grab the action\n",
    "            observation, reward, done, infor = env.step(action)\n",
    "            nstate = observation_to_state(observation,buckets)\n",
    "            total_reward += reward\n",
    "\n",
    "            alpha = learning_schedule(e,episodes)\n",
    "\n",
    "            #Q Function Update\n",
    "            if np.random.random() < 0.5:\n",
    "                UpdateA(Q,Q,state, action, nstate, alpha, reward, gamma, done)\n",
    "            else:\n",
    "                UpdateB(Q,Q,state, action, nstate, alpha, reward, gamma, done)\n",
    "\n",
    "            state = nstate\n",
    "            \n",
    "            if done:\n",
    "                rewards.append(total_reward)\n",
    "                break\n",
    "    return Q, rewards"
   ]
  },
  {
   "cell_type": "code",
   "execution_count": 18,
   "metadata": {},
   "outputs": [
    {
     "name": "stdout",
     "output_type": "stream",
     "text": [
      "[[  4.59210117e-01   1.08351959e+00]\n",
      " [  5.66892590e+01   9.31760087e-01]\n",
      " [  5.66942236e+01   1.05153313e+01]\n",
      " ..., \n",
      " [  3.63253399e-02   5.70269287e-01]\n",
      " [  9.21269929e-01   4.17766940e-01]\n",
      " [  7.87097497e-02   4.93495695e-01]]\n"
     ]
    },
    {
     "data": {
      "image/png": "[encoded data removed]",
      "text/plain": [
       "<matplotlib.figure.Figure at 0x19d17ea0eb8>"
      ]
     },
     "metadata": {},
     "output_type": "display_data"
    }
   ],
   "source": [
    "buckets = build_buckets()\n",
    "Q, rewards = double_q_learning(envCartPole, buckets) #Return the optimal policy and the Q table results\n",
    "\n",
    "\n",
    "\n",
    "#print(pi,Q)\n",
    "print(Q)\n",
    "#print (pi,V)\n",
    "\n",
    "rolling_average = np.convolve(rewards, np.ones(100)/100)\n",
    "\n",
    "plt.plot(rewards, color='grey')\n",
    "plt.plot(rolling_average, color='y')\n",
    "plt.axhline(y=195, color='r', linestyle='-') #Solved Line\n",
    "#NOTE: These are the epsilon changes in my original code\n",
    "plt.axvline(x=1000, color='g', linestyle='-')\n",
    "plt.axvline(x=2000, color='g', linestyle='-')\n",
    "plt.axvline(x=3000, color='g', linestyle='-')\n",
    "plt.axvline(x=4000, color='g', linestyle='-')\n",
    "plt.ylim( (0,300) )\n",
    "plt.show()\n",
    "\n",
    "\n",
    "envCartPole.close()"
   ]
  },
  {
   "cell_type": "markdown",
   "metadata": {},
   "source": [
    "**Conclusion**  \n",
    "I hope that this gives you a good idea about a Double Q-Learner. If you read the PDF I referenced below you can see a more indepth analysis as well as his results on roulette and a simple grid world."
   ]
  },
  {
   "cell_type": "markdown",
   "metadata": {},
   "source": [
    "*References*  \n",
    "Hasselt, H. V. (2010). Double Q-learning. Advances in Neural Information Processing Systems 23,2613-2621. Retrieved from http://papers.nips.cc/paper/3964-double-q-learning.pdf"
   ]
  }
 ],
 "metadata": {
  "kernelspec": {
   "display_name": "Python 3",
   "language": "python",
   "name": "python3"
  },
  "language_info": {
   "codemirror_mode": {
    "name": "ipython",
    "version": 3
   },
   "file_extension": ".py",
   "mimetype": "text/x-python",
   "name": "python",
   "nbconvert_exporter": "python",
   "pygments_lexer": "ipython3",
   "version": "3.6.1"
  }
 },
 "nbformat": 4,
 "nbformat_minor": 2
}
