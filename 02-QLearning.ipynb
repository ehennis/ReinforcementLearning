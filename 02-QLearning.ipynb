{
 "cells": [
  {
   "cell_type": "markdown",
   "metadata": {},
   "source": [
    "# Q-Learner"
   ]
  },
  {
   "cell_type": "markdown",
   "metadata": {},
   "source": [
    "**Overview**  \n",
    "Q-learning is a reinforcement learning technique. The goal is to learn the optimal policy. It is model free meaning that it doesn't need the entire environment to run. Q-learning involves an agent and an environment. The environment is a set of states S, and a set of actions A that are allowed in each state. The agent will reside in a state and perform an action. The environment will process that action and return back the new state (could be the same) and the reward for that action. The goal of the agent is to find the optimal policy with the largest reward. Just like with the MDPs in the previous notebook, the agent calculates the maximum future reward.  \n",
    "\n",
    "**Learning Rate**: The learning rate, or \\alpha, is a value between 0 and 1. It determines how aggressively you update the table value. With a learning rate near 0 you will not update your table value much. With the learning rate near 1 you are almost replacing the current value with the new calculated value. Basically, you ignore most of what you had learned for what you picked up this time. Typically, this is around 0.1.\n",
    "\n",
    "**Explore/Exploit**: Imagine a baby that is trying to learn how to accomplish a task. At first they are just a tornado of arms and legs flailing about. But, given enough time they figure out what they need to accomplish. The flailing about is the exploring part and the part where they know what to do is exploiting their knowledge.  \n",
    "  \n",
    "A major part of the q-learning agent is whether to explore the environment or exploit the environment. Initially, everything is exploring as the agent hasn't learned anything about the environment (in most implementations this is done by setting the initial values of all the actions within the state to a random number). When the agent starts training you will need to determine how much of the time do you take random actions and how much of the time do you take the optimal action. If you explore for too long you won't learn the optimal policy because all of your actions will be random and if you exploit too much you have the possibility of never finding the optimal solution. This process is called *epsilon-greedy* where epsilon is the percent of time the agent chooses to explore. In most problems the ideal explore rate is 10%. There are some algorithms that have this value decay over time to take advantage of your training.  \n",
    "\n",
    "**Discount Factor**: As stated in the MDP section, The discount factor is between 0 and 1. This determines how much you want to give the future path credit. You need to balance out your immediate rewards versus your future rewards. The higher the discount factor the further into the future path you want to include in this state/action pair. I will record the same math here as before to help this make sense. If your discount factor is 0.8 and after 5 steps you get a reward of 4 the present value of that reward is $0.8^4 * 5$ or ~2. If you change the discount factor or 0.9 that value becomes ~3.2. 0.1 turns into 0.0005.\n",
    "  \n",
    "**Q Table**: In a standard Q-learning algorithm the agent holds a q table that it uses to determine the ideal action for each state. This table is S x A in size. For each state we store the reward for each action. Typically, this is done as a 2 dimensional array but you can use other data structures. Also, in deep learning the q table is a neural network.  "
   ]
  },
  {
   "cell_type": "markdown",
   "metadata": {},
   "source": [
    "**Algorithm**  \n",
    "$$Q'(s_t,a_t) \\leftarrow Q(s_t,a_t) + \\alpha * \\big( r_t + \\gamma * max_a Q(s_{t+1},a) - Q(s_t,a_t) \\big) $$  \n",
    "  \n",
    "$\\alpha$: This is the learning rate. As listed above, this determines how much you change your Q value.  \n",
    "$Q(s_t,a_t)$: This is the old Q value from the table.  \n",
    "$r_t$: Is the reward you are receiving for taking action $a_t$ in state $s_t$  \n",
    "$\\gamma$: This is the discount factor similar to the MDP   \n",
    "$max_aQ(s_{t+1},a)$: This is the maximum future reward from state $s_{t+1}$.  \n",
    "$Q(s_t,a_t)$: This is the old Q value"
   ]
  },
  {
   "cell_type": "markdown",
   "metadata": {},
   "source": [
    "---\n",
    "**Question 1**  \n",
    "A simple question to make sure you understand where all the pieces fit together.  \n",
    "First, the hyper parameters.  \n",
    "&nbsp;&nbsp;&nbsp;&nbsp;Your learning rate ($\\alpha$) is 0.1  \n",
    "&nbsp;&nbsp;&nbsp;&nbsp;Your discount rate ($\\gamma$\\) is 0.8.  \n",
    "You are in state S1 and taking action A1 to state S2 and getting the reward of 5.  \n",
    "What is the new Q[S1,A1] value assuming this following Q table?  \n",
    "\n",
    "| |A1|A2|A3|  \n",
    "|----------|----------|----------|---------|  \n",
    "|S1|0.1|0.2|0.3|\n",
    "|S2|0.4|0.5|0.6|  \n",
    "|S3|0.7|0.8|0.9|  \n",
    "|S4|0.11|0.12|0.13|  "
   ]
  },
  {
   "cell_type": "code",
   "execution_count": 2,
   "metadata": {},
   "outputs": [
    {
     "name": "stdout",
     "output_type": "stream",
     "text": [
      "Correct\n",
      "  The old value is 0.1\n",
      "  The learning rate (alpha) is 0.1\n",
      "  The reward is 5\n",
      "  The discount factor is 0.8\n",
      "  The max action from state S2 is A3 with a value of 0.6\n",
      "  0.1 + 0.1 * (5 + 0.8 * 0.6 - 0.1)\n",
      "  0.1 + 0.1 * (5 + 4.8 - 0.1)\n",
      "  0.1 + 0.1 * (5.38)\n",
      "  0.1 + 0.538\n",
      "  0.638\n"
     ]
    }
   ],
   "source": [
    "from qlearning import QLQuestion1 #Import solution file\n",
    "QLQuestion1(0.1) #Pass in an integer value"
   ]
  },
  {
   "cell_type": "markdown",
   "metadata": {},
   "source": [
    "One thing I wanted to point out was finding $max_aQ(s_{t+1},a)$ in the previous question as it was hard for me to figure out until I did a few examples. In our problem we are looking at $max_a Q(S2,a)$. When we look at state S2 we see that we have 3 values, 0.4, 0.5, and 0.6. Clearly, the largest is under action A3. So, the $max_a$ in this case is A3. Now, we don't care which column it is from or care what action is taken. We just need the max expected value."
   ]
  },
  {
   "cell_type": "markdown",
   "metadata": {},
   "source": [
    "**Discrete Environment**"
   ]
  },
  {
   "cell_type": "code",
   "execution_count": null,
   "metadata": {
    "collapsed": true
   },
   "outputs": [],
   "source": [
    "# Create 3 to 4 q-learning problems"
   ]
  },
  {
   "cell_type": "markdown",
   "metadata": {},
   "source": [
    "**Continuous Environment**"
   ]
  },
  {
   "cell_type": "markdown",
   "metadata": {},
   "source": [
    "Explain this section. Use discretization and then show its limitations"
   ]
  },
  {
   "cell_type": "code",
   "execution_count": null,
   "metadata": {
    "collapsed": true
   },
   "outputs": [],
   "source": [
    "# Create a problem that shows discretization. Possible have it generate numbers and show the bins"
   ]
  }
 ],
 "metadata": {
  "kernelspec": {
   "display_name": "Python 3",
   "language": "python",
   "name": "python3"
  },
  "language_info": {
   "codemirror_mode": {
    "name": "ipython",
    "version": 3
   },
   "file_extension": ".py",
   "mimetype": "text/x-python",
   "name": "python",
   "nbconvert_exporter": "python",
   "pygments_lexer": "ipython3",
   "version": "3.6.1"
  }
 },
 "nbformat": 4,
 "nbformat_minor": 2
}
